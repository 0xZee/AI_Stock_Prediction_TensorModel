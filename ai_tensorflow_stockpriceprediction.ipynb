{
  "nbformat": 4,
  "nbformat_minor": 0,
  "metadata": {
    "colab": {
      "provenance": [],
      "authorship_tag": "ABX9TyOALUIBd6TAAL1AqBk4PlTQ",
      "include_colab_link": true
    },
    "kernelspec": {
      "name": "python3",
      "display_name": "Python 3"
    },
    "language_info": {
      "name": "python"
    }
  },
  "cells": [
    {
      "cell_type": "markdown",
      "metadata": {
        "id": "view-in-github",
        "colab_type": "text"
      },
      "source": [
        "<a href=\"https://colab.research.google.com/github/0xZee/AI_Stock_Prediction_TensorModel/blob/main/ai_tensorflow_stockpriceprediction.ipynb\" target=\"_parent\"><img src=\"https://colab.research.google.com/assets/colab-badge.svg\" alt=\"Open In Colab\"/></a>"
      ]
    },
    {
      "cell_type": "markdown",
      "source": [
        "---\n",
        "**MACHINE_LEARNING - NEURAL NETWORK #1**\n",
        "test machine learning with Keras Model (TensorFlow)\n",
        "--\n",
        "ex:1 the 'Hello ML World' : https://developers.google.com/codelabs/tensorflow-1-helloworld?hl=fr#0\n",
        "\n",
        "\n",
        "--\n",
        "\n",
        "\n",
        "ex#2 (computed vision)*italicized text*: https://developers.google.com/codelabs/tensorflow-2-computervision?hl=fr#1 "
      ],
      "metadata": {
        "id": "FHXsUGHyL3QJ"
      }
    },
    {
      "cell_type": "code",
      "execution_count": null,
      "metadata": {
        "colab": {
          "base_uri": "https://localhost:8080/"
        },
        "id": "SHNtn0Y8LwyI",
        "outputId": "259a72a0-5078-4776-ffe8-3bb3445e629a"
      },
      "outputs": [
        {
          "output_type": "stream",
          "name": "stdout",
          "text": [
            "Epoch 1/90\n",
            "1/1 [==============================] - 0s 476ms/step - loss: 56.2659\n",
            "Epoch 2/90\n",
            "1/1 [==============================] - 0s 15ms/step - loss: 44.2674\n",
            "Epoch 3/90\n",
            "1/1 [==============================] - 0s 9ms/step - loss: 34.8275\n",
            "Epoch 4/90\n",
            "1/1 [==============================] - 0s 9ms/step - loss: 27.4007\n",
            "Epoch 5/90\n",
            "1/1 [==============================] - 0s 10ms/step - loss: 21.5577\n",
            "Epoch 6/90\n",
            "1/1 [==============================] - 0s 10ms/step - loss: 16.9606\n",
            "Epoch 7/90\n",
            "1/1 [==============================] - 0s 10ms/step - loss: 13.3439\n",
            "Epoch 8/90\n",
            "1/1 [==============================] - 0s 10ms/step - loss: 10.4984\n",
            "Epoch 9/90\n",
            "1/1 [==============================] - 0s 10ms/step - loss: 8.2598\n",
            "Epoch 10/90\n",
            "1/1 [==============================] - 0s 10ms/step - loss: 6.4985\n",
            "Epoch 11/90\n",
            "1/1 [==============================] - 0s 9ms/step - loss: 5.1128\n",
            "Epoch 12/90\n",
            "1/1 [==============================] - 0s 10ms/step - loss: 4.0226\n",
            "Epoch 13/90\n",
            "1/1 [==============================] - 0s 16ms/step - loss: 3.1648\n",
            "Epoch 14/90\n",
            "1/1 [==============================] - 0s 12ms/step - loss: 2.4900\n",
            "Epoch 15/90\n",
            "1/1 [==============================] - 0s 10ms/step - loss: 1.9591\n",
            "Epoch 16/90\n",
            "1/1 [==============================] - 0s 10ms/step - loss: 1.5414\n",
            "Epoch 17/90\n",
            "1/1 [==============================] - 0s 15ms/step - loss: 1.2128\n",
            "Epoch 18/90\n",
            "1/1 [==============================] - 0s 15ms/step - loss: 0.9542\n",
            "Epoch 19/90\n",
            "1/1 [==============================] - 0s 14ms/step - loss: 0.7508\n",
            "Epoch 20/90\n",
            "1/1 [==============================] - 0s 12ms/step - loss: 0.5908\n",
            "Epoch 21/90\n",
            "1/1 [==============================] - 0s 11ms/step - loss: 0.4649\n",
            "Epoch 22/90\n",
            "1/1 [==============================] - 0s 11ms/step - loss: 0.3658\n",
            "Epoch 23/90\n",
            "1/1 [==============================] - 0s 11ms/step - loss: 0.2879\n",
            "Epoch 24/90\n",
            "1/1 [==============================] - 0s 11ms/step - loss: 0.2266\n",
            "Epoch 25/90\n",
            "1/1 [==============================] - 0s 11ms/step - loss: 0.1783\n",
            "Epoch 26/90\n",
            "1/1 [==============================] - 0s 11ms/step - loss: 0.1404\n",
            "Epoch 27/90\n",
            "1/1 [==============================] - 0s 10ms/step - loss: 0.1105\n",
            "Epoch 28/90\n",
            "1/1 [==============================] - 0s 13ms/step - loss: 0.0870\n",
            "Epoch 29/90\n",
            "1/1 [==============================] - 0s 12ms/step - loss: 0.0685\n",
            "Epoch 30/90\n",
            "1/1 [==============================] - 0s 14ms/step - loss: 0.0540\n",
            "Epoch 31/90\n",
            "1/1 [==============================] - 0s 11ms/step - loss: 0.0425\n",
            "Epoch 32/90\n",
            "1/1 [==============================] - 0s 10ms/step - loss: 0.0335\n",
            "Epoch 33/90\n",
            "1/1 [==============================] - 0s 13ms/step - loss: 0.0264\n",
            "Epoch 34/90\n",
            "1/1 [==============================] - 0s 10ms/step - loss: 0.0208\n",
            "Epoch 35/90\n",
            "1/1 [==============================] - 0s 11ms/step - loss: 0.0164\n",
            "Epoch 36/90\n",
            "1/1 [==============================] - 0s 10ms/step - loss: 0.0130\n",
            "Epoch 37/90\n",
            "1/1 [==============================] - 0s 10ms/step - loss: 0.0103\n",
            "Epoch 38/90\n",
            "1/1 [==============================] - 0s 11ms/step - loss: 0.0081\n",
            "Epoch 39/90\n",
            "1/1 [==============================] - 0s 19ms/step - loss: 0.0064\n",
            "Epoch 40/90\n",
            "1/1 [==============================] - 0s 14ms/step - loss: 0.0051\n",
            "Epoch 41/90\n",
            "1/1 [==============================] - 0s 12ms/step - loss: 0.0041\n",
            "Epoch 42/90\n",
            "1/1 [==============================] - 0s 12ms/step - loss: 0.0033\n",
            "Epoch 43/90\n",
            "1/1 [==============================] - 0s 10ms/step - loss: 0.0026\n",
            "Epoch 44/90\n",
            "1/1 [==============================] - 0s 12ms/step - loss: 0.0021\n",
            "Epoch 45/90\n",
            "1/1 [==============================] - 0s 12ms/step - loss: 0.0017\n",
            "Epoch 46/90\n",
            "1/1 [==============================] - 0s 10ms/step - loss: 0.0014\n",
            "Epoch 47/90\n",
            "1/1 [==============================] - 0s 12ms/step - loss: 0.0011\n",
            "Epoch 48/90\n",
            "1/1 [==============================] - 0s 11ms/step - loss: 9.2630e-04\n",
            "Epoch 49/90\n",
            "1/1 [==============================] - 0s 13ms/step - loss: 7.6938e-04\n",
            "Epoch 50/90\n",
            "1/1 [==============================] - 0s 11ms/step - loss: 6.4509e-04\n",
            "Epoch 51/90\n",
            "1/1 [==============================] - 0s 10ms/step - loss: 5.4650e-04\n",
            "Epoch 52/90\n",
            "1/1 [==============================] - 0s 10ms/step - loss: 4.6813e-04\n",
            "Epoch 53/90\n",
            "1/1 [==============================] - 0s 12ms/step - loss: 4.0570e-04\n",
            "Epoch 54/90\n",
            "1/1 [==============================] - 0s 11ms/step - loss: 3.5580e-04\n",
            "Epoch 55/90\n",
            "1/1 [==============================] - 0s 10ms/step - loss: 3.1579e-04\n",
            "Epoch 56/90\n",
            "1/1 [==============================] - 0s 10ms/step - loss: 2.8358e-04\n",
            "Epoch 57/90\n",
            "1/1 [==============================] - 0s 10ms/step - loss: 2.5752e-04\n",
            "Epoch 58/90\n",
            "1/1 [==============================] - 0s 10ms/step - loss: 2.3631e-04\n",
            "Epoch 59/90\n",
            "1/1 [==============================] - 0s 10ms/step - loss: 2.1893e-04\n",
            "Epoch 60/90\n",
            "1/1 [==============================] - 0s 10ms/step - loss: 2.0458e-04\n",
            "Epoch 61/90\n",
            "1/1 [==============================] - 0s 13ms/step - loss: 1.9262e-04\n",
            "Epoch 62/90\n",
            "1/1 [==============================] - 0s 11ms/step - loss: 1.8256e-04\n",
            "Epoch 63/90\n",
            "1/1 [==============================] - 0s 13ms/step - loss: 1.7401e-04\n",
            "Epoch 64/90\n",
            "1/1 [==============================] - 0s 13ms/step - loss: 1.6666e-04\n",
            "Epoch 65/90\n",
            "1/1 [==============================] - 0s 12ms/step - loss: 1.6027e-04\n",
            "Epoch 66/90\n",
            "1/1 [==============================] - 0s 11ms/step - loss: 1.5464e-04\n",
            "Epoch 67/90\n",
            "1/1 [==============================] - 0s 12ms/step - loss: 1.4962e-04\n",
            "Epoch 68/90\n",
            "1/1 [==============================] - 0s 11ms/step - loss: 1.4511e-04\n",
            "Epoch 69/90\n",
            "1/1 [==============================] - 0s 11ms/step - loss: 1.4099e-04\n",
            "Epoch 70/90\n",
            "1/1 [==============================] - 0s 11ms/step - loss: 1.3720e-04\n",
            "Epoch 71/90\n",
            "1/1 [==============================] - 0s 10ms/step - loss: 1.3367e-04\n",
            "Epoch 72/90\n",
            "1/1 [==============================] - 0s 9ms/step - loss: 1.3038e-04\n",
            "Epoch 73/90\n",
            "1/1 [==============================] - 0s 10ms/step - loss: 1.2726e-04\n",
            "Epoch 74/90\n",
            "1/1 [==============================] - 0s 10ms/step - loss: 1.2430e-04\n",
            "Epoch 75/90\n",
            "1/1 [==============================] - 0s 10ms/step - loss: 1.2148e-04\n",
            "Epoch 76/90\n",
            "1/1 [==============================] - 0s 10ms/step - loss: 1.1877e-04\n",
            "Epoch 77/90\n",
            "1/1 [==============================] - 0s 10ms/step - loss: 1.1617e-04\n",
            "Epoch 78/90\n",
            "1/1 [==============================] - 0s 10ms/step - loss: 1.1365e-04\n",
            "Epoch 79/90\n",
            "1/1 [==============================] - 0s 10ms/step - loss: 1.1121e-04\n",
            "Epoch 80/90\n",
            "1/1 [==============================] - 0s 10ms/step - loss: 1.0885e-04\n",
            "Epoch 81/90\n",
            "1/1 [==============================] - 0s 10ms/step - loss: 1.0655e-04\n",
            "Epoch 82/90\n",
            "1/1 [==============================] - 0s 10ms/step - loss: 1.0431e-04\n",
            "Epoch 83/90\n",
            "1/1 [==============================] - 0s 13ms/step - loss: 1.0212e-04\n",
            "Epoch 84/90\n",
            "1/1 [==============================] - 0s 15ms/step - loss: 9.9998e-05\n",
            "Epoch 85/90\n",
            "1/1 [==============================] - 0s 14ms/step - loss: 9.7918e-05\n",
            "Epoch 86/90\n",
            "1/1 [==============================] - 0s 11ms/step - loss: 9.5888e-05\n",
            "Epoch 87/90\n",
            "1/1 [==============================] - 0s 12ms/step - loss: 9.3902e-05\n",
            "Epoch 88/90\n",
            "1/1 [==============================] - 0s 9ms/step - loss: 9.1961e-05\n",
            "Epoch 89/90\n",
            "1/1 [==============================] - 0s 9ms/step - loss: 9.0060e-05\n",
            "Epoch 90/90\n",
            "1/1 [==============================] - 0s 9ms/step - loss: 8.8203e-05\n"
          ]
        },
        {
          "output_type": "stream",
          "name": "stderr",
          "text": [
            "WARNING:tensorflow:5 out of the last 5 calls to <function Model.make_predict_function.<locals>.predict_function at 0x7f0562fc8d30> triggered tf.function retracing. Tracing is expensive and the excessive number of tracings could be due to (1) creating @tf.function repeatedly in a loop, (2) passing tensors with different shapes, (3) passing Python objects instead of tensors. For (1), please define your @tf.function outside of the loop. For (2), @tf.function has reduce_retracing=True option that can avoid unnecessary retracing. For (3), please refer to https://www.tensorflow.org/guide/function#controlling_retracing and https://www.tensorflow.org/api_docs/python/tf/function for  more details.\n"
          ]
        },
        {
          "output_type": "stream",
          "name": "stdout",
          "text": [
            "--------------------------\n",
            "The Prediction (Y) for  X=10 :\n",
            "1/1 [==============================] - 0s 115ms/step\n",
            "[[16.007214]]\n",
            "--------------------------\n"
          ]
        }
      ],
      "source": [
        "# imports\n",
        "import tensorflow as tf\n",
        "import numpy as np\n",
        "from tensorflow import keras\n",
        "\n",
        "# my_function to figure out :\n",
        "#float my_function(float x){\n",
        "#    float y = (3 * x) + 1;\n",
        "#    return y;\n",
        "#}\n",
        "\n",
        "# define neural network model (1 layer with 1 neurone, and 1 input)\n",
        "model = tf.keras.Sequential([keras.layers.Dense(units=1, input_shape=[1])])\n",
        "# Compile code : optimizer and loss score\n",
        "model.compile(optimizer='sgd', loss='mean_squared_error')\n",
        "\n",
        "# data to supply\n",
        "xs = np.array([-1.0, 0.0, 1.0, 2.0, 3.0, 4.0], dtype=float)\n",
        "ys = np.array([-2.0, 1.0, 4.0, 7.0, 10.0, 13.0], dtype=float)\n",
        "\n",
        "# training the NN Model (500 tests)\n",
        "model.fit(xs, ys, epochs=90)\n",
        "\n",
        "# Model Prediction : predict the Y value if X is 10\n",
        "print(\"--------------------------\")\n",
        "print(\"The Prediction (Y) for  X=10 :\")\n",
        "print(model.predict([5.0]))\n",
        "print(\"--------------------------\")\n",
        "\n",
        "\n"
      ]
    },
    {
      "cell_type": "markdown",
      "source": [
        "\n",
        "\n",
        "---\n",
        "MARKET STOCK PRICE PREDICTION (Neural Network) with KERAS\n",
        "---\n",
        "https://www.projectpro.io/article/stock-price-prediction-using-machine-learning-project/571\n"
      ],
      "metadata": {
        "id": "I8XW5jP7v0S0"
      }
    },
    {
      "cell_type": "markdown",
      "source": [
        "Collect data for stock price from yahoo finances (for exp BTC, TSLA, APPL..)"
      ],
      "metadata": {
        "id": "zh34wQ4pwUAY"
      }
    },
    {
      "cell_type": "markdown",
      "source": [
        "# AI PREDICT BITOIN PRICE"
      ],
      "metadata": {
        "id": "Jt1jycCrvqLV"
      }
    },
    {
      "cell_type": "code",
      "source": [
        "import pandas as pd\n",
        "from sklearn.linear_model import LinearRegression\n",
        "\n",
        "# Load historical BTC price data\n",
        "df = pd.read_csv('btc_price_history.csv')\n",
        "\n",
        "# Split the data into training and testing sets\n",
        "train_data = df[:-3]\n",
        "test_data = df[-3:]\n",
        "\n",
        "# Create a linear regression model\n",
        "model = LinearRegression()\n",
        "\n",
        "# Train the model on the training data\n",
        "model.fit(train_data[['Open', 'High', 'Low']], train_data['Close'])\n",
        "\n",
        "# Predict the BTC price on the testing data\n",
        "predicted_prices = model.predict(test_data[['Open', 'High', 'Low']])\n",
        "\n",
        "# Print the predicted prices\n",
        "print(\"predicted prices for BTC (Open, High and Low) : \")\n",
        "print(predicted_prices)\n"
      ],
      "metadata": {
        "colab": {
          "base_uri": "https://localhost:8080/"
        },
        "id": "tRUtxSjTvwP2",
        "outputId": "64b13c90-debb-4671-c0c2-7452be6941f5"
      },
      "execution_count": null,
      "outputs": [
        {
          "output_type": "stream",
          "name": "stdout",
          "text": [
            "predicted prices for BTC (Open, High and Low) : \n",
            "[34614.64633696 34960.86997812 33433.08599749]\n"
          ]
        }
      ]
    },
    {
      "cell_type": "markdown",
      "source": [
        "# NETFLIX PRICE PREDICTION"
      ],
      "metadata": {
        "id": "DtbfmYqsvykp"
      }
    },
    {
      "cell_type": "code",
      "source": [
        "\n",
        "# to read Netflix prices file\n",
        "import pandas as pd\n",
        "\n",
        "# imports for plot chart\n",
        "import matplotlib.dates as mdates\n",
        "import matplotlib.pyplot as plt\n",
        "import datetime as dt\n",
        "\n",
        "# Import ML and NN Libs : LongShortTermModel LSTM\n",
        "# LSTM models using Tensorflow Keras and preprocessing our data using scikit-learn\n",
        "from tensorflow.keras.models import Sequential\n",
        "from tensorflow.keras.layers import Dense\n",
        "from tensorflow.keras.layers import LSTM\n",
        "from tensorflow.keras.layers import Dropout\n",
        "from tensorflow.keras.layers import *\n",
        "from tensorflow.keras.callbacks import EarlyStopping\n",
        "\n",
        "from sklearn.preprocessing import MinMaxScaler , StandardScaler\n",
        "from sklearn.metrics import mean_squared_error\n",
        "from sklearn.metrics import mean_absolute_percentage_error\n",
        "from sklearn.model_selection import train_test_split\n",
        "from sklearn.model_selection import TimeSeriesSplit\n",
        "from sklearn.metrics import mean_squared_error\n",
        "\n",
        "# DATA PROCESSING\n",
        "# Data process / Normalize or rescale the data within a fixed range \n",
        "target_y = stock_data['Close']\n",
        "X_feat = stock_data.iloc[:,0:3]\n",
        "\n",
        "# use a StandardScaler to rescale our values between -1 and 1\n",
        "sc = StrandardScaler()\n",
        "X_ft = sc.fit_transform(X_feat.values)\n",
        "X_ft = pd.DataFrame(columns=X_feat.columns , data=X_ft , index=X_feat.index)\n",
        "\n",
        "\n",
        "\n",
        "# build LSTM Model\n",
        "\n",
        "# train model \n",
        "\n",
        "# fit the model\n",
        "\n",
        "\n",
        "# read data\n",
        "stock_data = pd.read_csv('./NFLX.csv', index_col='Date')\n",
        "stock_data.head()\n",
        "\n",
        "# plot charts\n",
        "plt.figure(figsize=(15,10))\n",
        "plt.gca().xaxis.set_major_formatter(mdates.DateFormatter('%Y-%m-%d'))\n",
        "plt.gca().xaxis.set_major_locator(mdates.DayLocator(interval=60))\n",
        "x_dates = [dt.datetime.strptime (d,'%Y-%m-%d').date() for d in stock_data.index.values]\n",
        "\n",
        "plt.plot(x_dates, stock_data['High'], label='High')\n",
        "plt.plot(x_dates, stock_data['Low'], label='Low')\n",
        "\n",
        "plt.xlabel('Time Scale')\n",
        "plt.ylabel('USD')\n",
        "plt.suptitle('NETFLIX (NFLX) daily stock price')\n",
        "plt.legend()\n",
        "plt.gcf().autofmt_xdate()\n",
        "plt.show()\n"
      ],
      "metadata": {
        "colab": {
          "base_uri": "https://localhost:8080/",
          "height": 891
        },
        "id": "fVrklyLivzzI",
        "outputId": "f65a574c-10f7-4ad5-fb65-ecdd3de376fb"
      },
      "execution_count": null,
      "outputs": [
        {
          "output_type": "stream",
          "name": "stdout",
          "text": [
            "teh X Feat is  Date\n",
            "2022-03-01    386.239990\n",
            "2022-03-02    380.029999\n",
            "2022-03-03    368.070007\n",
            "2022-03-04    361.730011\n",
            "2022-03-07    350.260010\n",
            "                 ...    \n",
            "2023-02-22    334.880005\n",
            "2023-02-23    323.649994\n",
            "2023-02-24    317.149994\n",
            "2023-02-27    323.029999\n",
            "2023-02-28    322.130005\n",
            "Name: Close, Length: 251, dtype: float64\n"
          ]
        },
        {
          "output_type": "display_data",
          "data": {
            "text/plain": [
              "<Figure size 1080x720 with 1 Axes>"
            ],
            "image/png": "[encoded data removed]"
          },
          "metadata": {
            "needs_background": "light"
          }
        }
      ]
    },
    {
      "cell_type": "markdown",
      "source": [],
      "metadata": {
        "id": "DUzncL0u45EM"
      }
    },
    {
      "cell_type": "markdown",
      "source": [
        "---\n",
        "# AI TEST DEEP LEARNING CNN :P"
      ],
      "metadata": {
        "id": "DDnxrHQe48bS"
      }
    },
    {
      "cell_type": "code",
      "source": [
        "from keras.datasets import mnist\n",
        "from keras.models import Sequential\n",
        "from keras.layers import Conv2D, MaxPooling2D, Flatten, Dense\n",
        "from keras.utils import to_categorical\n",
        "\n",
        "# Load the MNIST dataset\n",
        "(x_train, y_train), (x_test, y_test) = mnist.load_data()\n",
        "\n",
        "# Preprocess the data\n",
        "x_train = x_train.reshape((60000, 28, 28, 1))\n",
        "x_train = x_train.astype('float32') / 255\n",
        "y_train = to_categorical(y_train)\n",
        "\n",
        "x_test = x_test.reshape((10000, 28, 28, 1))\n",
        "x_test = x_test.astype('float32') / 255\n",
        "y_test = to_categorical(y_test)\n",
        "\n",
        "# Define the model\n",
        "model = Sequential()\n",
        "model.add(Conv2D(32, kernel_size=(3, 3), activation='relu', input_shape=(28, 28, 1)))\n",
        "model.add(MaxPooling2D(pool_size=(2, 2)))\n",
        "model.add(Flatten())\n",
        "model.add(Dense(128, activation='relu'))\n",
        "model.add(Dense(10, activation='softmax'))\n",
        "\n",
        "# Compile the model\n",
        "model.compile(loss='categorical_crossentropy', optimizer='adam', metrics=['accuracy'])\n",
        "\n",
        "# Train the model\n",
        "model.fit(x_train, y_train, batch_size=128, epochs=10, validation_data=(x_test, y_test))\n",
        "\n",
        "# Evaluate the model\n",
        "score = model.evaluate(x_test, y_test, verbose=0)\n",
        "print('Test loss:', score[0])\n",
        "print('Test accuracy:', score[1])\n"
      ],
      "metadata": {
        "colab": {
          "base_uri": "https://localhost:8080/"
        },
        "id": "KlnUnwSM5VHQ",
        "outputId": "5e831797-1868-4a83-d810-72dd5e5eabd8"
      },
      "execution_count": null,
      "outputs": [
        {
          "output_type": "stream",
          "name": "stdout",
          "text": [
            "Downloading data from https://storage.googleapis.com/tensorflow/tf-keras-datasets/mnist.npz\n",
            "11490434/11490434 [==============================] - 0s 0us/step\n",
            "Epoch 1/10\n",
            "469/469 [==============================] - 38s 76ms/step - loss: 0.2110 - accuracy: 0.9395 - val_loss: 0.0786 - val_accuracy: 0.9766\n",
            "Epoch 2/10\n",
            "469/469 [==============================] - 37s 79ms/step - loss: 0.0649 - accuracy: 0.9809 - val_loss: 0.0653 - val_accuracy: 0.9785\n",
            "Epoch 3/10\n",
            "469/469 [==============================] - 35s 75ms/step - loss: 0.0427 - accuracy: 0.9870 - val_loss: 0.0444 - val_accuracy: 0.9852\n",
            "Epoch 4/10\n",
            "469/469 [==============================] - 41s 87ms/step - loss: 0.0304 - accuracy: 0.9908 - val_loss: 0.0432 - val_accuracy: 0.9866\n",
            "Epoch 5/10\n",
            "469/469 [==============================] - 36s 77ms/step - loss: 0.0235 - accuracy: 0.9931 - val_loss: 0.0450 - val_accuracy: 0.9855\n",
            "Epoch 6/10\n",
            "469/469 [==============================] - 35s 76ms/step - loss: 0.0172 - accuracy: 0.9948 - val_loss: 0.0453 - val_accuracy: 0.9867\n",
            "Epoch 7/10\n",
            "469/469 [==============================] - 34s 72ms/step - loss: 0.0133 - accuracy: 0.9959 - val_loss: 0.0524 - val_accuracy: 0.9851\n",
            "Epoch 8/10\n",
            "469/469 [==============================] - 35s 75ms/step - loss: 0.0088 - accuracy: 0.9977 - val_loss: 0.0439 - val_accuracy: 0.9875\n",
            "Epoch 9/10\n",
            "469/469 [==============================] - 36s 78ms/step - loss: 0.0071 - accuracy: 0.9981 - val_loss: 0.0537 - val_accuracy: 0.9854\n",
            "Epoch 10/10\n",
            "469/469 [==============================] - 35s 76ms/step - loss: 0.0068 - accuracy: 0.9980 - val_loss: 0.0444 - val_accuracy: 0.9862\n",
            "Test loss: 0.04444313049316406\n",
            "Test accuracy: 0.9861999750137329\n"
          ]
        }
      ]
    }
  ]
}